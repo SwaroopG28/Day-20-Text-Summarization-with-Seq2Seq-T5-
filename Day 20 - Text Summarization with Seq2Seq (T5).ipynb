{
 "cells": [
  {
   "cell_type": "markdown",
   "id": "241e3cbd",
   "metadata": {},
   "source": [
    "# Text Summarization with Seq2Seq (T5)"
   ]
  },
  {
   "cell_type": "code",
   "execution_count": 1,
   "id": "d64a59f0",
   "metadata": {},
   "outputs": [
    {
     "name": "stderr",
     "output_type": "stream",
     "text": [
      "C:\\Users\\swaro\\anaconda3\\Lib\\site-packages\\pandas\\core\\arrays\\masked.py:60: UserWarning: Pandas requires version '1.3.6' or newer of 'bottleneck' (version '1.3.5' currently installed).\n",
      "  from pandas.core import (\n"
     ]
    }
   ],
   "source": [
    "# Import necessary libraries\n",
    "from transformers import T5Tokenizer, T5ForConditionalGeneration"
   ]
  },
  {
   "cell_type": "code",
   "execution_count": 2,
   "id": "5aad3a87",
   "metadata": {},
   "outputs": [
    {
     "data": {
      "application/vnd.jupyter.widget-view+json": {
       "model_id": "c629acca10bb49faab0f9c05e947c83e",
       "version_major": 2,
       "version_minor": 0
      },
      "text/plain": [
       "tokenizer_config.json:   0%|          | 0.00/2.32k [00:00<?, ?B/s]"
      ]
     },
     "metadata": {},
     "output_type": "display_data"
    },
    {
     "name": "stderr",
     "output_type": "stream",
     "text": [
      "C:\\Users\\swaro\\anaconda3\\Lib\\site-packages\\huggingface_hub\\file_download.py:140: UserWarning: `huggingface_hub` cache-system uses symlinks by default to efficiently store duplicated files but your machine does not support them in C:\\Users\\swaro\\.cache\\huggingface\\hub\\models--t5-small. Caching files will still work but in a degraded version that might require more space on your disk. This warning can be disabled by setting the `HF_HUB_DISABLE_SYMLINKS_WARNING` environment variable. For more details, see https://huggingface.co/docs/huggingface_hub/how-to-cache#limitations.\n",
      "To support symlinks on Windows, you either need to activate Developer Mode or to run Python as an administrator. In order to activate developer mode, see this article: https://docs.microsoft.com/en-us/windows/apps/get-started/enable-your-device-for-development\n",
      "  warnings.warn(message)\n"
     ]
    },
    {
     "data": {
      "application/vnd.jupyter.widget-view+json": {
       "model_id": "85225de9ecf74bffb9b63bffcaca0474",
       "version_major": 2,
       "version_minor": 0
      },
      "text/plain": [
       "spiece.model:   0%|          | 0.00/792k [00:00<?, ?B/s]"
      ]
     },
     "metadata": {},
     "output_type": "display_data"
    },
    {
     "data": {
      "application/vnd.jupyter.widget-view+json": {
       "model_id": "a77067a1c7b94b7b98708afb2d447583",
       "version_major": 2,
       "version_minor": 0
      },
      "text/plain": [
       "tokenizer.json:   0%|          | 0.00/1.39M [00:00<?, ?B/s]"
      ]
     },
     "metadata": {},
     "output_type": "display_data"
    },
    {
     "name": "stderr",
     "output_type": "stream",
     "text": [
      "You are using the default legacy behaviour of the <class 'transformers.models.t5.tokenization_t5.T5Tokenizer'>. This is expected, and simply means that the `legacy` (previous) behavior will be used so nothing changes for you. If you want to use the new behaviour, set `legacy=False`. This should only be set if you understand what it means, and thoroughly read the reason why this was added as explained in https://github.com/huggingface/transformers/pull/24565\n"
     ]
    },
    {
     "data": {
      "application/vnd.jupyter.widget-view+json": {
       "model_id": "e790d470911645ea80fe05403ce3173f",
       "version_major": 2,
       "version_minor": 0
      },
      "text/plain": [
       "config.json:   0%|          | 0.00/1.21k [00:00<?, ?B/s]"
      ]
     },
     "metadata": {},
     "output_type": "display_data"
    },
    {
     "data": {
      "application/vnd.jupyter.widget-view+json": {
       "model_id": "d40f8209ef7747019eeaffb584f98dd9",
       "version_major": 2,
       "version_minor": 0
      },
      "text/plain": [
       "model.safetensors:   0%|          | 0.00/242M [00:00<?, ?B/s]"
      ]
     },
     "metadata": {},
     "output_type": "display_data"
    },
    {
     "data": {
      "application/vnd.jupyter.widget-view+json": {
       "model_id": "e23944da8de44f81a310ad962f03d5d9",
       "version_major": 2,
       "version_minor": 0
      },
      "text/plain": [
       "generation_config.json:   0%|          | 0.00/147 [00:00<?, ?B/s]"
      ]
     },
     "metadata": {},
     "output_type": "display_data"
    }
   ],
   "source": [
    "# Load the pre-trained T5 model and tokenizer\n",
    "model_name = \"t5-small\"  # You can also try \"t5-base\" or \"t5-large\"\n",
    "tokenizer = T5Tokenizer.from_pretrained(model_name)\n",
    "model = T5ForConditionalGeneration.from_pretrained(model_name)"
   ]
  },
  {
   "cell_type": "code",
   "execution_count": 3,
   "id": "3ad505e5",
   "metadata": {},
   "outputs": [],
   "source": [
    "# Input text to summarize\n",
    "input_text = \"\"\"\n",
    "Artificial Intelligence (AI) is a branch of computer science that aims to create machines \n",
    "that can perform tasks that would typically require human intelligence. These tasks include \n",
    "learning, reasoning, problem-solving, perception, and language understanding. AI has become \n",
    "an essential part of the technology industry, enabling advances in robotics, data analytics, \n",
    "and automation. However, it also raises ethical concerns about privacy, fairness, and the \n",
    "impact on employment. Despite these challenges, AI continues to evolve and shape the future \n",
    "of humanity.\n",
    "\"\"\""
   ]
  },
  {
   "cell_type": "code",
   "execution_count": 4,
   "id": "4f580b86",
   "metadata": {},
   "outputs": [],
   "source": [
    "# Prepend the task prefix to the input text\n",
    "task_prefix = \"summarize: \"\n",
    "input_text = task_prefix + input_text"
   ]
  },
  {
   "cell_type": "code",
   "execution_count": 5,
   "id": "bc9c36e6",
   "metadata": {},
   "outputs": [],
   "source": [
    "# Tokenize the input text\n",
    "input_ids = tokenizer.encode(input_text, return_tensors=\"pt\", max_length=512, truncation=True)"
   ]
  },
  {
   "cell_type": "code",
   "execution_count": 6,
   "id": "680816f8",
   "metadata": {},
   "outputs": [],
   "source": [
    "# Generate the summary\n",
    "summary_ids = model.generate(input_ids, max_length=50, min_length=20, length_penalty=2.0, num_beams=4, early_stopping=True)\n",
    "summary = tokenizer.decode(summary_ids[0], skip_special_tokens=True)"
   ]
  },
  {
   "cell_type": "code",
   "execution_count": 7,
   "id": "72b5964d",
   "metadata": {},
   "outputs": [
    {
     "name": "stdout",
     "output_type": "stream",
     "text": [
      "Original Text:\n",
      "\n",
      "\n",
      "Artificial Intelligence (AI) is a branch of computer science that aims to create machines \n",
      "that can perform tasks that would typically require human intelligence. These tasks include \n",
      "learning, reasoning, problem-solving, perception, and language understanding. AI has become \n",
      "an essential part of the technology industry, enabling advances in robotics, data analytics, \n",
      "and automation. However, it also raises ethical concerns about privacy, fairness, and the \n",
      "impact on employment. Despite these challenges, AI continues to evolve and shape the future \n",
      "of humanity.\n",
      "\n",
      "\n",
      "Generated Summary:\n",
      "\n",
      "AI is a branch of computer science that aims to create machines that can perform tasks that would typically require human intelligence. these tasks include learning, reasoning, problem-solving, perception, and language understanding. AI has become an\n"
     ]
    }
   ],
   "source": [
    "# Print the summary\n",
    "print(\"Original Text:\\n\")\n",
    "print(input_text[len(task_prefix):])  # Remove task prefix for display\n",
    "print(\"\\nGenerated Summary:\\n\")\n",
    "print(summary)"
   ]
  }
 ],
 "metadata": {
  "kernelspec": {
   "display_name": "Python 3 (ipykernel)",
   "language": "python",
   "name": "python3"
  },
  "language_info": {
   "codemirror_mode": {
    "name": "ipython",
    "version": 3
   },
   "file_extension": ".py",
   "mimetype": "text/x-python",
   "name": "python",
   "nbconvert_exporter": "python",
   "pygments_lexer": "ipython3",
   "version": "3.11.4"
  }
 },
 "nbformat": 4,
 "nbformat_minor": 5
}
